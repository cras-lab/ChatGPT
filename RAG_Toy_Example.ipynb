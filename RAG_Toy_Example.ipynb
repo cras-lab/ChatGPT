{
  "nbformat": 4,
  "nbformat_minor": 0,
  "metadata": {
    "colab": {
      "provenance": [],
      "authorship_tag": "ABX9TyMJbaL6rIxCgFERjo0ayZj5",
      "include_colab_link": true
    },
    "kernelspec": {
      "name": "python3",
      "display_name": "Python 3"
    },
    "language_info": {
      "name": "python"
    }
  },
  "cells": [
    {
      "cell_type": "markdown",
      "metadata": {
        "id": "view-in-github",
        "colab_type": "text"
      },
      "source": [
        "<a href=\"https://colab.research.google.com/github/cras-lab/ChatGPT/blob/main/RAG_Toy_Example.ipynb\" target=\"_parent\"><img src=\"https://colab.research.google.com/assets/colab-badge.svg\" alt=\"Open In Colab\"/></a>"
      ]
    },
    {
      "cell_type": "markdown",
      "source": [
        "FAISS(Facebook AI Similarity Search)는 Facebook AI Research에서 개발한 라이브러리로, 벡터를 효율적으로 검색하고 인덱싱하기 위한 도구이다. 주로 대규모 벡터 데이터베이스에서 유사한 벡터를 빠르게 검색하는 데 사용된다.<BR>\n",
        "먼저 faiss를 설치해야 한다."
      ],
      "metadata": {
        "id": "RtOGdImsPEvL"
      }
    },
    {
      "cell_type": "code",
      "source": [
        "pip install -q faiss-cpu"
      ],
      "metadata": {
        "colab": {
          "base_uri": "https://localhost:8080/"
        },
        "id": "ICm6N8RS_GXa",
        "outputId": "d679f1a0-8022-48c5-fed4-014c41bd01e8"
      },
      "execution_count": 1,
      "outputs": [
        {
          "output_type": "stream",
          "name": "stdout",
          "text": [
            "\u001b[2K   \u001b[90m━━━━━━━━━━━━━━━━━━━━━━━━━━━━━━━━━━━━━━━━\u001b[0m \u001b[32m27.0/27.0 MB\u001b[0m \u001b[31m21.9 MB/s\u001b[0m eta \u001b[36m0:00:00\u001b[0m\n",
            "\u001b[?25h"
          ]
        }
      ]
    },
    {
      "cell_type": "markdown",
      "source": [
        "필요한 라이브러리를 임포트 한다."
      ],
      "metadata": {
        "id": "6QgTwU61PYql"
      }
    },
    {
      "cell_type": "code",
      "source": [
        "# 라이브러리 임포트\n",
        "from transformers import AutoTokenizer, AutoModelForSeq2SeqLM, pipeline\n",
        "import faiss\n",
        "import numpy as np"
      ],
      "metadata": {
        "id": "r1BDe0VMP5dX"
      },
      "execution_count": 2,
      "outputs": []
    },
    {
      "cell_type": "markdown",
      "source": [
        "RAG의 핵심인 추가적인 검색 데이터를 구축한다. <BR>\n",
        "여기서는 예제로서 간단한 문장 몇개를 벡터화 한다."
      ],
      "metadata": {
        "id": "DyQxALbXP9kN"
      }
    },
    {
      "cell_type": "code",
      "source": [
        "# 1. 검색에 사용할 문서 데이터\n",
        "documents = [\n",
        "    \"The Eiffel Tower is located in Paris.\",\n",
        "    \"The Great Wall of China is one of the seven wonders of the world.\",\n",
        "    \"The Moon orbits around the Earth.\",\n",
        "    \"Python is a popular programming language for machine learning.\"\n",
        "    ]"
      ],
      "metadata": {
        "id": "4NDG2shtQJ8D"
      },
      "execution_count": 3,
      "outputs": []
    },
    {
      "cell_type": "markdown",
      "source": [
        "간단한 임베딩 생성을 위해 TF-IDF를 사용해서 문서를 임베딩한다.\n",
        "임베딩을 위한 함수를 정의한다."
      ],
      "metadata": {
        "id": "G11YPhewQMSJ"
      }
    },
    {
      "cell_type": "code",
      "source": [
        "# 2. 간단한 임베딩 생성을 위해 TF-IDF 사용\n",
        "# 문서를 임베딩하는 함수\n",
        "def embed_documents(documents):\n",
        "    from sklearn.feature_extraction.text import TfidfVectorizer\n",
        "    vectorizer = TfidfVectorizer()\n",
        "    embeddings = vectorizer.fit_transform(documents)\n",
        "    return embeddings.toarray(), vectorizer"
      ],
      "metadata": {
        "id": "a9N3-MaiQRTL"
      },
      "execution_count": 4,
      "outputs": []
    },
    {
      "cell_type": "markdown",
      "source": [
        "문서를 임베딩하고 ,검색을 위한 인덱스 생성"
      ],
      "metadata": {
        "id": "RvMfDemhQZqW"
      }
    },
    {
      "cell_type": "code",
      "source": [
        "# 3. 문서를 임베딩하고, 검색을 위한 인덱스를 생성한다.\n",
        "doc_embeddings, vectorizer = embed_documents(documents)\n",
        "index = faiss.IndexFlatL2(doc_embeddings.shape[1])\n",
        "index.add(doc_embeddings)"
      ],
      "metadata": {
        "id": "uCl8RD9ZQi3h"
      },
      "execution_count": 5,
      "outputs": []
    },
    {
      "cell_type": "markdown",
      "source": [
        "검색과 생성 파이프라인을 구축한다."
      ],
      "metadata": {
        "id": "sSmEauYeQlAg"
      }
    },
    {
      "cell_type": "code",
      "source": [
        "# 4. 검색 및 생성 파이프라인 구축\n",
        "tokenizer = AutoTokenizer.from_pretrained(\"facebook/bart-large-cnn\")\n",
        "model = AutoModelForSeq2SeqLM.from_pretrained(\"facebook/bart-large-cnn\")\n",
        "qa_pipeline = pipeline(\"summarization\", model=model, tokenizer=tokenizer)"
      ],
      "metadata": {
        "id": "KmL-1w3EQoiN"
      },
      "execution_count": 21,
      "outputs": []
    },
    {
      "cell_type": "markdown",
      "source": [
        "사용자의 쿼리에 기반한 문서검색 함수를 정의"
      ],
      "metadata": {
        "id": "idqLlTbqQrbE"
      }
    },
    {
      "cell_type": "code",
      "source": [
        "# 5. 사용자의 쿼리를 기반으로 문서 검색\n",
        "def search_documents(query, k=1):\n",
        "    query_embedding = vectorizer.transform([query]).toarray()\n",
        "    _, indices = index.search(query_embedding, k)\n",
        "    return [documents[i] for i in indices[0]]"
      ],
      "metadata": {
        "id": "HCrOfwGxQuHZ"
      },
      "execution_count": 22,
      "outputs": []
    },
    {
      "cell_type": "markdown",
      "source": [
        "검색된 문서에 기반한 답변생성 함수 정의"
      ],
      "metadata": {
        "id": "-5AQ4uPaQwkl"
      }
    },
    {
      "cell_type": "code",
      "source": [
        "# 6. 검색된 문서를 기반으로 답변 생성\n",
        "def generate_answer(query):\n",
        "    retrieved_docs = search_documents(query)\n",
        "    input_text = \" \".join(retrieved_docs) + \" \" + query\n",
        "\n",
        "    answer = qa_pipeline(input_text, max_length=50, min_length=25, do_sample=False)\n",
        "    return answer[0]['summary_text']"
      ],
      "metadata": {
        "id": "qUXkernwQ2r4"
      },
      "execution_count": 23,
      "outputs": []
    },
    {
      "cell_type": "code",
      "execution_count": null,
      "metadata": {
        "id": "0_fUaRzq-1Ui"
      },
      "outputs": [],
      "source": [
        "# 7. 예제 실행\n",
        "query = \"Where is the Eiffel Tower?\"\n",
        "answer = generate_answer(query)\n",
        "print(f\"Query: {query}\\nAnswer: {answer}\")\n"
      ]
    },
    {
      "cell_type": "markdown",
      "source": [
        "이제 잘못된 정보를 제공했을 때의 결과를 보기 위해 검색 사용데이터를 의도적으로 왜곡해 본다.에펠탑이 서울에 있다고 거짓된 문서를 넣어본다."
      ],
      "metadata": {
        "id": "VMTl_RffRDoz"
      }
    },
    {
      "cell_type": "code",
      "source": [
        "# 1. 검색에 사용할 문서 데이터\n",
        "documents = [\n",
        "    \"The Eiffel Tower is located in Seoul.\",\n",
        "    \"The Great Wall of China is one of the seven wonders of the world.\",\n",
        "    \"The Moon orbits around the Earth.\",\n",
        "    \"Python is a popular programming language for machine learning.\"\n",
        "    ]"
      ],
      "metadata": {
        "id": "F8YrzR-tRMxh"
      },
      "execution_count": 25,
      "outputs": []
    },
    {
      "cell_type": "markdown",
      "source": [
        "다시 임베딩하고 파이프 라인을 구축해 본다."
      ],
      "metadata": {
        "id": "-HyWdE6yRVyv"
      }
    },
    {
      "cell_type": "code",
      "source": [
        "# 3. 문서를 임베딩하고, 검색을 위한 인덱스를 생성한다.\n",
        "doc_embeddings, vectorizer = embed_documents(documents)\n",
        "index = faiss.IndexFlatL2(doc_embeddings.shape[1])\n",
        "index.add(doc_embeddings)\n",
        "\n",
        "# 4. 검색 및 생성 파이프라인 구축\n",
        "tokenizer = AutoTokenizer.from_pretrained(\"facebook/bart-large-cnn\")\n",
        "model = AutoModelForSeq2SeqLM.from_pretrained(\"facebook/bart-large-cnn\")\n",
        "qa_pipeline = pipeline(\"summarization\", model=model, tokenizer=tokenizer)"
      ],
      "metadata": {
        "id": "GCv-dK5ERXzd"
      },
      "execution_count": 26,
      "outputs": []
    },
    {
      "cell_type": "markdown",
      "source": [
        "쿼리를 실행해 본다."
      ],
      "metadata": {
        "id": "lOlX_z_cRnBT"
      }
    },
    {
      "cell_type": "code",
      "source": [
        "# 7. 예제 실행\n",
        "query = \"Where is the Eiffel Tower?\"\n",
        "answer = generate_answer(query)\n",
        "print(f\"Query: {query}\\nAnswer: {answer}\")"
      ],
      "metadata": {
        "id": "YD6pWgGrRpUj"
      },
      "execution_count": null,
      "outputs": []
    }
  ]
}